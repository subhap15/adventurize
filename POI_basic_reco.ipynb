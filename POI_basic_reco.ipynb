{
 "cells": [
  {
   "cell_type": "code",
   "execution_count": 1,
   "metadata": {
    "collapsed": true
   },
   "outputs": [],
   "source": [
    "import pandas as pd\n",
    "import time\n",
    "\n",
    "import json\n",
    "import httplib2\n",
    "import sys\n",
    "import codecs\n",
    "       \n",
    "import re\n",
    "\n",
    "import numpy as np\n",
    "\n",
    "import ast\n",
    "\n",
    "import warnings\n",
    "warnings.filterwarnings(\"ignore\")"
   ]
  },
  {
   "cell_type": "code",
   "execution_count": 8,
   "metadata": {
    "collapsed": true
   },
   "outputs": [],
   "source": [
    "df_venues = pd.read_csv('venues_clean.csv', encoding = \"ISO-8859-1\") "
   ]
  },
  {
   "cell_type": "code",
   "execution_count": 116,
   "metadata": {},
   "outputs": [
    {
     "data": {
      "text/plain": [
       "(7421, 63)"
      ]
     },
     "execution_count": 116,
     "metadata": {},
     "output_type": "execute_result"
    }
   ],
   "source": [
    "df_venues.shape"
   ]
  },
  {
   "cell_type": "code",
   "execution_count": 9,
   "metadata": {
    "collapsed": true
   },
   "outputs": [],
   "source": [
    "#df_venues.cat1_name.unique()\n",
    "df_venues['category_label'] = None\n",
    "#df_venues['cat1_name'][1] = df_venues['cat1_name'][1].strip()\n",
    "#print(df_venues['cat1_name'][1]) \n",
    "#if df_venues['cat1_name'][1] == \"'Burger Joint'\":\n",
    "#    print ('yes')"
   ]
  },
  {
   "cell_type": "code",
   "execution_count": 11,
   "metadata": {},
   "outputs": [],
   "source": [
    "for i, row in df_venues.iterrows():\n",
    "#for i in range(10):\n",
    "    df_venues['cat1_name'][i] = df_venues['cat1_name'][i].strip()\n",
    "    df_venues['cat1_name'][i] = df_venues['cat1_name'][i].lower()\n",
    "    if df_venues.cat1_name[i] == \"'fast food restaurant'\" or df_venues.cat1_name[i] == \"'breakfast spot'\" or \\\n",
    "    df_venues.cat1_name[i]==\"'food truck'\" or df_venues.cat1_name[i] == \"'deli / bodega'\" or \\\n",
    "    df_venues.cat1_name[i] == \"'fried chicken joint'\" or df_venues.cat1_name[i] == \"'hot dog joint'\" or \\\n",
    "    df_venues.cat1_name[i] == \"'food court'\" or df_venues.cat1_name[i]== \"'comfort food restaurant'\" or \\\n",
    "    df_venues.cat1_name[i] == \"'wings joint'\" or df_venues.cat1_name[i] == \"'food stand'\" or \\\n",
    "    df_venues.cat1_name[i] == \"'burger joint'\" or df_venues.cat1_name[i] == \"'sandwich place'\" or \\\n",
    "    df_venues.cat1_name[i] == \"'cafeteria'\":\n",
    "        df_venues['category_label'][i] = '10'\n",
    "        continue\n",
    "     \n",
    "    if df_venues.cat1_name[i] == \"'falafel restaurant'\" or df_venues.cat1_name[i] ==  \"'mediterranean restaurant'\" or \\\n",
    "    df_venues.cat1_name[i] == \"'greek restaurant'\" or df_venues.cat1_name[i] == \"'middle eastern restaurant'\" or \\\n",
    "    df_venues.cat1_name[i] == \"'ethiopian restaurant'\" or df_venues.cat1_name[i] == \"'israeli restaurant'\" or \\\n",
    "    df_venues.cat1_name[i] == \"'afghan restaurant'\":\n",
    "        df_venues.category_label[i] = '11'\n",
    "        continue \n",
    "         \n",
    "    if df_venues.cat1_name[i] == \"'chinese restaurant'\" or df_venues.cat1_name[i] == \"'asian restaurant'\" or \\\n",
    "    df_venues.cat1_name[i] == \"'sushi restaurant'\" or df_venues.cat1_name[i] == \"'japanese restaurant'\" or \\\n",
    "    df_venues.cat1_name[i] == \"'thai restaurant'\" or df_venues.cat1_name[i] == \"'noodle house'\" or \\\n",
    "    df_venues.cat1_name[i] == \"'mongolian restaurant'\" or df_venues.cat1_name[i] == \"'korean restaurant'\" or \\\n",
    "    df_venues.cat1_name[i] == \"'vietnamese restaurant'\" or df_venues.cat1_name[i] == \"'filipino restaurant'\" or \\\n",
    "    df_venues.cat1_name[i] == \"'shanghai restaurant'\" or df_venues.cat1_name[i] == \"'ramen restaurant'\" or \\\n",
    "    df_venues.cat1_name[i] == \"'dim sum restaurant'\" or df_venues.cat1_name[i] == \"'szechuan restaurant'\" or \\\n",
    "    df_venues.cat1_name[i] == \"'taiwanese restaurant'\" or df_venues.cat1_name[i] == \"'japanese curry restaurant'\" or \\\n",
    "    df_venues.cat1_name[i] == \"'hotpot restaurant'\" or df_venues.cat1_name[i] == \"'nabe restaurant'\" or \\\n",
    "    df_venues.cat1_name[i] == \"'cambodian restaurant'\" or df_venues.cat1_name[i] == \"'malay restaurant'\" or \\\n",
    "    df_venues.cat1_name[i] ==  \"'burmese restaurant'\" or df_venues.cat1_name[i] == \"'dumpling restaurant'\" or \\\n",
    "    df_venues.cat1_name[i] == \"'indonesian restaurant'\":\n",
    "        df_venues.category_label[i] = '12'\n",
    "        continue\n",
    "    \n",
    "    if df_venues.cat1_name[i] == \"'mexican restaurant'\" or df_venues.cat1_name[i] == \"'taco place'\" or \\\n",
    "    df_venues.cat1_name[i] == \"'cuban restaurant'\" or df_venues.cat1_name[i] == \"'burrito place'\" or \\\n",
    "    df_venues.cat1_name[i] == \"'brazilian restaurant'\" or df_venues.cat1_name[i] == \"'caribbean restaurant'\" or \\\n",
    "    df_venues.cat1_name[i] == \"'tex-mex restaurant'\" or df_venues.cat1_name[i] == \"'argentinian restaurant'\" or \\\n",
    "    df_venues.cat1_name[i] == \"'spanish restaurant'\" or df_venues.cat1_name[i] == \"'latin american restaurant'\" or \\\n",
    "    df_venues.cat1_name[i] == \"'peruvian restaurant'\" or df_venues.cat1_name[i] == \"'tapas restaurant'\":\n",
    "        df_venues.category_label[i] = '13'\n",
    "        continue\n",
    "        \n",
    "    if df_venues.cat1_name[i] == \"'vegetarian / vegan restaurant'\" or df_venues.cat1_name[i] ==  \"'salad place'\" or \\\n",
    "    df_venues.cat1_name[i] == \"'gluten-free Restaurant'\" or df_venues.cat1_name[i] == \"'soup place'\" :\n",
    "        df_venues.category_label[i] = '14'\n",
    "        continue\n",
    "        \n",
    "    if df_venues.cat1_name[i] == \"'american restaurant'\" or df_venues.cat1_name[i] == \"'diner'\" or \\\n",
    "    df_venues.cat1_name[i] ==  \"'cajun / creole restaurant'\" or \\\n",
    "    df_venues.cat1_name[i] == \"'steakhouse'\" or df_venues.cat1_name[i] == \"'southern / soul food restaurant'\" or \\\n",
    "    df_venues.cat1_name[i] == \"'bbq joint'\" or df_venues.cat1_name[i] == \"'hawaiian restaurant'\":\n",
    "        df_venues.category_label[i] = '15' \n",
    "        continue\n",
    "        \n",
    "    if df_venues.cat1_name[i] == \"'café'\" or df_venues.cat1_name[i] ==  \"'bagel shop'\" or \\\n",
    "    df_venues.cat1_name[i] == \"'bakery'\" or df_venues.cat1_name[i] == \"'donut shop'\" :\n",
    "        df_venues.category_label[i] = '16'\n",
    "        continue \n",
    "    \n",
    "    if df_venues.cat1_name[i] == \"'italian'\" or df_venues.cat1_name[i] ==  \"'pizza place'\" :\n",
    "        df_venues.category_label[i] = '17'\n",
    "        continue \n",
    "        \n",
    "    if df_venues.cat1_name[i] == \"'fish & chips shop'\" or df_venues.cat1_name[i] ==  \"'english restaurant'\" or \\\n",
    "    df_venues.cat1_name[i] == \"'irish pub'\" or df_venues.cat1_name[i] == \"'australian restaurant'\" :\n",
    "        df_venues.category_label[i] = '18'\n",
    "        continue     \n",
    "    \n",
    "    if df_venues.cat1_name[i] == \"'french restaurant'\" or df_venues.cat1_name[i] ==  \"'creperie'\" or \\\n",
    "    df_venues.cat1_name[i] == \"'german restaurant'\" or df_venues.cat1_name[i] == \"'swiss restaurant'\" or \\\n",
    "    df_venues.cat1_name[i] == \"'scandinavian restaurant'\" or  df_venues.cat1_name[i] == \"'italian restaurant'\":\n",
    "        df_venues.category_label[i] = '19'\n",
    "        continue     \n",
    "        \n",
    "    if df_venues.cat1_name[i] == \"'scenic lookout'\" or df_venues.cat1_name[i] == \"'beach'\" or \\\n",
    "    df_venues.cat1_name[i] == \"'state / provincial park'\" or df_venues.cat1_name[i] == \"'trail'\" or \\\n",
    "    df_venues.cat1_name[i] == \"'lighthouse'\" or df_venues.cat1_name[i] == \"'island'\" or \\\n",
    "    df_venues.cat1_name[i] == \"'mountain'\" or df_venues.cat1_name[i] == \"'park'\" or \\\n",
    "    df_venues.cat1_name[i] == \"'fountain'\" or df_venues.cat1_name[i] == \"'waterfall'\" or \\\n",
    "    df_venues.cat1_name[i] == \"'harbor / marina'\" or df_venues.cat1_name[i] == \"'lake'\" or \\\n",
    "    df_venues.cat1_name[i] == \"'other great outdoors'\" or df_venues.cat1_name[i] == \"'nature preserve'\" or \\\n",
    "    df_venues.cat1_name[i] == \"'bike trail'\" or df_venues.cat1_name[i] == \"'bridge'\" or \\\n",
    "    df_venues.cat1_name[i] == \"'castle'\" or df_venues.cat1_name[i] == \"'windmill'\" or \\\n",
    "    df_venues.cat1_name[i] == \"'bay'\" or df_venues.cat1_name[i] == \"'national park'\" or \\\n",
    "    df_venues.cat1_name[i] ==  \"'hill'\" or df_venues.cat1_name[i] == \"'canal'\" or \\\n",
    "    df_venues.cat1_name[i] == \"'surf spot'\" or df_venues.cat1_name[i] ==  \"'garden'\" or df_venues.cat1_name[i] == \"'tree'\":\n",
    "        df_venues.category_label[i] = '21'\n",
    "        continue\n",
    "        \n",
    "    if df_venues.cat1_name[i] == \"'monument / landmark'\" or df_venues.cat1_name[i] ==  \"'historic site'\" or \\\n",
    "    df_venues.cat1_name[i] == \"'art museum'\" or df_venues.cat1_name[i] == \"'history museum'\" or \\\n",
    "    df_venues.cat1_name[i] == \"'memorial site'\" or  df_venues.cat1_name[i] == \"'museum'\":\n",
    "        df_venues.category_label[i] = '22'\n",
    "        continue     \n",
    "        \n",
    "        \n",
    "    if df_venues.cat1_name[i] == \"'circus'\" or df_venues.cat1_name[i] ==  \"'theme Park'\" or \\\n",
    "    df_venues.cat1_name[i] == \"'theme park ride / attraction'\" or df_venues.cat1_name[i] == \"'general entertainment'\" or \\\n",
    "    df_venues.cat1_name[i] == \"'aquarium'\" or  df_venues.cat1_name[i] == \"'go kart track'\" or \\\n",
    "    df_venues.cat1_name[i] == \"'zoo exhibit'\" or  df_venues.cat1_name[i] == \"'laser tag'\" or  df_venues.cat1_name[i] == \"'farm'\":\n",
    "        df_venues.category_label[i] = '23'\n",
    "        continue         \n",
    "        \n",
    "    if df_venues.cat1_name[i] == \"'science museum'\" or df_venues.cat1_name[i] ==  \"'Planetarium'\" or \\\n",
    "    df_venues.cat1_name[i] == \"'Observatory'\" :\n",
    "        df_venues.category_label[i] = '24'\n",
    "        continue     \n",
    "              \n",
    "          \n",
    "    if df_venues.cat1_name[i] == \"'skate park'\" or df_venues.cat1_name[i] ==  \"'roller rink'\" or \\\n",
    "    df_venues.cat1_name[i] == \"'mini golf'\" or df_venues.cat1_name[i] == \"'disc golf'\" or \\\n",
    "    df_venues.cat1_name[i] == \"'athletics & sports'\" or  df_venues.cat1_name[i] == \"'racetrack'\" or \\\n",
    "     df_venues.cat1_name[i] == \"'racecourse'\" or  df_venues.cat1_name[i] == \"'gun range'\" or \\\n",
    "    df_venues.cat1_name[i] == \"'golf course'\" or \\\n",
    "     df_venues.cat1_name[i] == \"'soccer stadium'\" or  df_venues.cat1_name[i] == \"'baseball stadium'\":\n",
    "        df_venues.category_label[i] = '25'\n",
    "        continue             \n",
    "    \n",
    "    if df_venues.cat1_name[i] == \"'winery'\":\n",
    "        df_venues.category_label[i] = '26'\n",
    "        continue             \n",
    "        \n",
    "    if df_venues.cat1_name[i] == \"'sculpture garden'\" or df_venues.cat1_name[i] ==  \"'street art'\" or \\\n",
    "    df_venues.cat1_name[i] == \"'art gallery'\" or df_venues.cat1_name[i] == \"'general entertainment'\" or \\\n",
    "    df_venues.cat1_name[i] == \"'aquarium'\" or  df_venues.cat1_name[i] == \"'outdoor sculpture'\" or \\\n",
    "     df_venues.cat1_name[i] == \"'exhibit'\" or  df_venues.cat1_name[i] == \"'public art'\":\n",
    "        df_venues.category_label[i] = '27'\n",
    "        continue            \n",
    "        \n",
    "        \n",
    "    if df_venues.cat1_name[i] == \"'concert hall'\" or df_venues.cat1_name[i] == \"'rock club'\" or \\\n",
    "    df_venues.cat1_name[i] == \"'country dance club'\" or df_venues.cat1_name[i] == \"'performing arts venue'\" or \\\n",
    "    df_venues.cat1_name[i] == \"'music venue'\" or df_venues.cat1_name[i] == \"'dance studio'\" or \\\n",
    "    df_venues.cat1_name[i] == \"'opera house'\" or df_venues.cat1_name[i] == \"'salsa club'\" or \\\n",
    "    df_venues.cat1_name[i] == \"'amphitheater'\" or df_venues.cat1_name[i] == \"'jazz club'\" or \\\n",
    "    df_venues.cat1_name[i] == \"'comedy club'\" or df_venues.cat1_name[i] == \"'movie theater'\" or \\\n",
    "    df_venues.cat1_name[i] == \"'theater'\" or df_venues.cat1_name[i] == \"'multiplex'\" or \\\n",
    "    df_venues.cat1_name[i] == \"'indie theater'\" or df_venues.cat1_name[i] == \"'indie movie theater'\" or \\\n",
    "    df_venues.cat1_name[i] == \"'drive-in theater'\" or df_venues.cat1_name[i] == \"'arts & entertainment'\":\n",
    "        df_venues.category_label[i] = '28'\n",
    "        continue    \n",
    "            \n",
    "    "
   ]
  },
  {
   "cell_type": "code",
   "execution_count": 12,
   "metadata": {
    "collapsed": true
   },
   "outputs": [],
   "source": [
    "#no_val = df_venues['category_label'] == None\n",
    "df_none = df_venues[df_venues['category_label'].isnull()]"
   ]
  },
  {
   "cell_type": "code",
   "execution_count": 13,
   "metadata": {},
   "outputs": [
    {
     "data": {
      "text/plain": [
       "(744, 64)"
      ]
     },
     "execution_count": 13,
     "metadata": {},
     "output_type": "execute_result"
    }
   ],
   "source": [
    "df_none.shape"
   ]
  },
  {
   "cell_type": "code",
   "execution_count": 15,
   "metadata": {},
   "outputs": [],
   "source": [
    "#df_venues[['cat1_name','category_label']]\n",
    "\n",
    "df_venues.rename(columns={'category_label':'bucket'}, inplace=True)"
   ]
  },
  {
   "cell_type": "code",
   "execution_count": 16,
   "metadata": {
    "collapsed": true
   },
   "outputs": [],
   "source": [
    "df_none.to_csv('no_category.csv')"
   ]
  },
  {
   "cell_type": "code",
   "execution_count": 17,
   "metadata": {},
   "outputs": [
    {
     "name": "stdout",
     "output_type": "stream",
     "text": [
      "Hopdoddy Burger Bar 'burger joint' 10\n"
     ]
    }
   ],
   "source": [
    "def return_random_poi(label):\n",
    "    #print ('here')\n",
    "    return df_venues[df_venues.bucket == label].iloc[0]\n",
    "\n",
    "\n",
    "i = return_random_poi ('10')\n",
    "print (i['name'], i['cat1_name'], i['bucket'])\n"
   ]
  },
  {
   "cell_type": "code",
   "execution_count": 18,
   "metadata": {},
   "outputs": [
    {
     "name": "stdout",
     "output_type": "stream",
     "text": [
      "LAX Landing Path 'scenic lookout' 21\n"
     ]
    }
   ],
   "source": [
    "i = return_random_poi ('21')\n",
    "print (i['name'], i['cat1_name'], i['bucket'])"
   ]
  },
  {
   "cell_type": "code",
   "execution_count": 19,
   "metadata": {},
   "outputs": [
    {
     "name": "stdout",
     "output_type": "stream",
     "text": [
      "LAX Sign 'monument / landmark' 22\n"
     ]
    }
   ],
   "source": [
    "i = return_random_poi ('22')\n",
    "print (i['name'], i['cat1_name'], i['bucket'])"
   ]
  },
  {
   "cell_type": "code",
   "execution_count": 20,
   "metadata": {},
   "outputs": [
    {
     "name": "stdout",
     "output_type": "stream",
     "text": [
      "The Getty Center 'general entertainment' 23\n"
     ]
    }
   ],
   "source": [
    "i = return_random_poi ('23')\n",
    "print (i['name'], i['cat1_name'], i['bucket'])"
   ]
  },
  {
   "cell_type": "code",
   "execution_count": 21,
   "metadata": {},
   "outputs": [
    {
     "name": "stdout",
     "output_type": "stream",
     "text": [
      "California Academy of Sciences 'science museum' 24\n"
     ]
    }
   ],
   "source": [
    "i = return_random_poi ('24')\n",
    "print (i['name'], i['cat1_name'], i['bucket'])"
   ]
  },
  {
   "cell_type": "code",
   "execution_count": 22,
   "metadata": {},
   "outputs": [
    {
     "name": "stdout",
     "output_type": "stream",
     "text": [
      "Folktale Winery & Vineyards 'winery' 26\n"
     ]
    }
   ],
   "source": [
    "i = return_random_poi ('26')\n",
    "print (i['name'], i['cat1_name'], i['bucket'])"
   ]
  },
  {
   "cell_type": "code",
   "execution_count": 23,
   "metadata": {},
   "outputs": [
    {
     "name": "stdout",
     "output_type": "stream",
     "text": [
      "Urban Light at LACMA 'sculpture garden' 27\n"
     ]
    }
   ],
   "source": [
    "i = return_random_poi ('27')\n",
    "print (i['name'], i['cat1_name'], i['bucket'])"
   ]
  },
  {
   "cell_type": "code",
   "execution_count": 24,
   "metadata": {},
   "outputs": [
    {
     "name": "stdout",
     "output_type": "stream",
     "text": [
      "Palace of Fine Arts Theater 'theater' 28\n"
     ]
    }
   ],
   "source": [
    "i = return_random_poi ('28')\n",
    "print (i['name'], i['cat1_name'], i['bucket'])"
   ]
  },
  {
   "cell_type": "code",
   "execution_count": 26,
   "metadata": {
    "collapsed": true
   },
   "outputs": [],
   "source": [
    "df_venues.to_csv('venues_clean_bucket.csv')"
   ]
  },
  {
   "cell_type": "code",
   "execution_count": null,
   "metadata": {
    "collapsed": true
   },
   "outputs": [],
   "source": []
  }
 ],
 "metadata": {
  "kernelspec": {
   "display_name": "Python 3",
   "language": "python",
   "name": "python3"
  },
  "language_info": {
   "codemirror_mode": {
    "name": "ipython",
    "version": 3
   },
   "file_extension": ".py",
   "mimetype": "text/x-python",
   "name": "python",
   "nbconvert_exporter": "python",
   "pygments_lexer": "ipython3",
   "version": "3.6.3"
  }
 },
 "nbformat": 4,
 "nbformat_minor": 2
}
