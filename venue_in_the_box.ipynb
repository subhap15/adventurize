{
 "cells": [
  {
   "cell_type": "code",
   "execution_count": 1,
   "metadata": {
    "collapsed": true
   },
   "outputs": [],
   "source": [
    "import pandas as pd\n",
    "import time\n",
    "\n",
    "import json\n",
    "import httplib2\n",
    "import sys\n",
    "import codecs\n",
    "       \n",
    "import re\n",
    "\n",
    "import numpy as np\n",
    "import math\n",
    "import ast\n",
    "\n",
    "import warnings\n",
    "warnings.filterwarnings(\"ignore\")\n",
    "\n",
    "import json\n",
    "#!pip install geog\n",
    "import geog\n",
    "import shapely.geometry\n",
    "from shapely.geometry import Point"
   ]
  },
  {
   "cell_type": "code",
   "execution_count": 2,
   "metadata": {
    "collapsed": true
   },
   "outputs": [],
   "source": [
    "df = pd.read_csv('new_venues_clean.csv', encoding = \"ISO-8859-1\") \n"
   ]
  },
  {
   "cell_type": "code",
   "execution_count": 3,
   "metadata": {
    "collapsed": true
   },
   "outputs": [],
   "source": [
    "df.drop(['in_the_box'],axis =1, inplace=True)"
   ]
  },
  {
   "cell_type": "code",
   "execution_count": 4,
   "metadata": {},
   "outputs": [
    {
     "name": "stdout",
     "output_type": "stream",
     "text": [
      "Origin Lat/Long 34.05223 -118.24368\n",
      "Destination Lat/Long 37.77493 -122.41942\n",
      "Radius 160\n"
     ]
    }
   ],
   "source": [
    "### Input\n",
    "####### LA to SF (around 1204 POI)\n",
    "x_0 = 34.05223\n",
    "y_0 = -118.24368\n",
    "x_f = 37.77493\n",
    "y_f = -122.41942\n",
    "\n",
    "####### San Jose to SD (around 1320 POI)\n",
    "#x_0 = 37.3382082\n",
    "#y_0 = -121.8863286\n",
    "#x_f = 32.715738\n",
    "#y_f = -117.1610838\n",
    "\n",
    "# Oakland to SD  (around 1299 POI)\n",
    "#x_0 = 37.8044\n",
    "#y_0 = -122.2712\n",
    "#x_f = 32.715738\n",
    "#y_f = -117.1610838\n",
    "\n",
    "# San Jose to SF (around 653 POI)\n",
    "#x_0 = 37.3382082\n",
    "#y_0 = -121.8863286\n",
    "#x_f = 37.77493\n",
    "#y_f = -122.41942\n",
    "\n",
    "# Palo Alto to LA (around 872 POI)\n",
    "#x_0 = 37.4419\n",
    "#y_0 = -122.1430\n",
    "#x_f = 34.05223\n",
    "#y_f = -118.24368\n",
    "\n",
    "# Berkeley to Santa Barbara (around 347 POI)\n",
    "#x_0 = 37.8715926\n",
    "#y_0 = -122.272747\n",
    "#x_f =  34.420830\n",
    "#y_f = -119.698189\n",
    "\n",
    "# Berkeley to San Diego (around 1342 POI)\n",
    "#x_0 = 37.8715926\n",
    "#y_0 = -122.272747\n",
    "#x_f =   32.715738\n",
    "#y_f = -117.1610838\n",
    "\n",
    "# Santa Cruz to LA (around 746 POI)\n",
    "#x_0 = 36.974117\n",
    "#y_0 = -122.030792\n",
    "#x_f = 34.05223\n",
    "#y_f = -118.24368\n",
    "\n",
    "# Sacramento to SD (around  1149 POI)\n",
    "#x_0 = 36.974117\n",
    "#y_0 = -122.030792\n",
    "#x_f =   32.715738\n",
    "#y_f = -117.1610838\n",
    "\n",
    "# Irvine to Big Sur (around  1038 POI)\n",
    "#x_0 = 33.6846\n",
    "#y_0 = -117.8265\n",
    "#x_f =   36.3615\n",
    "#y_f = -121.8563\n",
    "\n",
    "print (\"Origin Lat/Long\", x_0, y_0)\n",
    "print (\"Destination Lat/Long\", x_f, y_f)\n",
    "#approximate distance between points (aka \"radius\")\n",
    "radius = 160 # approximately 100 miles\n",
    "print (\"Radius\", radius)"
   ]
  },
  {
   "cell_type": "code",
   "execution_count": 5,
   "metadata": {
    "collapsed": true
   },
   "outputs": [],
   "source": [
    "def poi_inside_box_optimize(x_0, y_0, x_f, y_f,df,radius=80):\n",
    "        # Haversine distance from origin to Destination\n",
    "        dlat = math.radians(x_f - x_0)\n",
    "        dlon = math.radians(y_f - y_0)\n",
    "        haversine_radius = 6371  # km\n",
    "        a = math.sin(dlat / 2) * math.sin(dlat / 2) + math.cos(math.radians(x_f)) \\\n",
    "            * math.cos(math.radians(x_0)) * math.sin(dlon / 2) * math.sin(dlon / 2)\n",
    "        c = 2 * math.atan2(math.sqrt(a), math.sqrt(1 - a))\n",
    "        haversine_dist = haversine_radius * c\n",
    "        #print ('Haversine Distance between Origin and Destination', haversine_dist)\n",
    "\n",
    "        if haversine_dist / radius < 2:\n",
    "            no_of_points = 1\n",
    "        else:\n",
    "            no_of_points = round(haversine_dist / radius) - 1\n",
    "        x_delta = (x_f - x_0) / no_of_points\n",
    "        y_delta = (y_f - y_0) / no_of_points\n",
    "        list_of_centroids = [(x_0 + i * x_delta, y_0 + i * y_delta) for i in range(1, no_of_points+1)]\n",
    "         \n",
    "        # list of tuples in the form of (x_min, x_max, y_min, y_max)\n",
    "        polygon_height = radius * 1000  # meters\n",
    "        polygon_points = 4\n",
    "        angles = np.linspace(0, 360, polygon_points)\n",
    "\n",
    "        df['in_the_box'] = False\n",
    "\n",
    "        for (x, y) in list_of_centroids:\n",
    "            df.loc[(abs(df[\"lat\"]-x)<abs(x_delta/2)) & (abs(df[\"lng\"]-y)<abs(y_delta/2)), 'in_the_box'] = True\n",
    "            \n",
    "        #print(df[df['in_the_box'] == True].shape[0])    \n",
    "        return df"
   ]
  },
  {
   "cell_type": "code",
   "execution_count": 6,
   "metadata": {},
   "outputs": [
    {
     "name": "stdout",
     "output_type": "stream",
     "text": [
      "7.06 ms ± 1.07 ms per loop (mean ± std. dev. of 7 runs, 100 loops each)\n"
     ]
    }
   ],
   "source": [
    "%%timeit\n",
    "df1 = poi_inside_box_optimize(x_0,y_0,x_f,y_f,df,radius)"
   ]
  },
  {
   "cell_type": "code",
   "execution_count": null,
   "metadata": {
    "collapsed": true
   },
   "outputs": [],
   "source": [
    "df[df['in_the_box'] == True]"
   ]
  },
  {
   "cell_type": "code",
   "execution_count": 7,
   "metadata": {},
   "outputs": [
    {
     "data": {
      "text/plain": [
       "(1799, 19)"
      ]
     },
     "execution_count": 7,
     "metadata": {},
     "output_type": "execute_result"
    }
   ],
   "source": [
    "df[df['in_the_box'] == True].shape"
   ]
  },
  {
   "cell_type": "code",
   "execution_count": 8,
   "metadata": {
    "collapsed": true
   },
   "outputs": [],
   "source": [
    "df_inside_the_box = df[df['in_the_box'] == True]"
   ]
  },
  {
   "cell_type": "markdown",
   "metadata": {},
   "source": [
    "#### Logic to remove duplicate POIs"
   ]
  },
  {
   "cell_type": "code",
   "execution_count": null,
   "metadata": {
    "collapsed": true
   },
   "outputs": [],
   "source": [
    "df1[df1.duplicated(['name','address'], keep = 'first')]"
   ]
  },
  {
   "cell_type": "code",
   "execution_count": null,
   "metadata": {
    "collapsed": true
   },
   "outputs": [],
   "source": [
    "df1.shape"
   ]
  },
  {
   "cell_type": "code",
   "execution_count": null,
   "metadata": {
    "collapsed": true
   },
   "outputs": [],
   "source": [
    "df1.drop_duplicates(['name','address'], keep = 'first', inplace = True)"
   ]
  },
  {
   "cell_type": "code",
   "execution_count": null,
   "metadata": {
    "collapsed": true
   },
   "outputs": [],
   "source": [
    "df1.columns.values"
   ]
  },
  {
   "cell_type": "code",
   "execution_count": null,
   "metadata": {
    "collapsed": true
   },
   "outputs": [],
   "source": [
    "#df1.drop(['centroid_index'],axis =1, inplace=True)  "
   ]
  },
  {
   "cell_type": "code",
   "execution_count": null,
   "metadata": {
    "collapsed": true
   },
   "outputs": [],
   "source": [
    "df1.to_csv('new_venues_clean.csv')"
   ]
  },
  {
   "cell_type": "markdown",
   "metadata": {},
   "source": [
    "#### Map the POIs"
   ]
  },
  {
   "cell_type": "code",
   "execution_count": 9,
   "metadata": {
    "collapsed": true
   },
   "outputs": [],
   "source": [
    "df_original = pd.read_csv('venues_clean_bucket.csv', encoding = \"ISO-8859-1\") "
   ]
  },
  {
   "cell_type": "code",
   "execution_count": 10,
   "metadata": {},
   "outputs": [
    {
     "data": {
      "image/png": "[encoded data removed]",
      "text/plain": [
       "<matplotlib.figure.Figure at 0x2bf34657ba8>"
      ]
     },
     "metadata": {},
     "output_type": "display_data"
    }
   ],
   "source": [
    "import matplotlib.pyplot as plt\n",
    "df_original.plot(kind=\"scatter\", x=\"lng\", y=\"lat\", alpha=0.4)\n",
    "plt.show()"
   ]
  },
  {
   "cell_type": "code",
   "execution_count": 11,
   "metadata": {},
   "outputs": [
    {
     "data": {
      "image/png": "[encoded data removed]",
      "text/plain": [
       "<matplotlib.figure.Figure at 0x2bf34859470>"
      ]
     },
     "metadata": {},
     "output_type": "display_data"
    }
   ],
   "source": [
    "df_inside_the_box.plot(kind=\"scatter\", x=\"lng\", y=\"lat\", alpha=0.4)\n",
    "plt.show()"
   ]
  },
  {
   "cell_type": "code",
   "execution_count": null,
   "metadata": {
    "collapsed": true
   },
   "outputs": [],
   "source": []
  }
 ],
 "metadata": {
  "kernelspec": {
   "display_name": "Python 3",
   "language": "python",
   "name": "python3"
  },
  "language_info": {
   "codemirror_mode": {
    "name": "ipython",
    "version": 3
   },
   "file_extension": ".py",
   "mimetype": "text/x-python",
   "name": "python",
   "nbconvert_exporter": "python",
   "pygments_lexer": "ipython3",
   "version": "3.6.3"
  }
 },
 "nbformat": 4,
 "nbformat_minor": 2
}
