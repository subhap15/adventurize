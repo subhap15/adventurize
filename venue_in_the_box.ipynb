{
 "cells": [
  {
   "cell_type": "code",
   "execution_count": 1,
   "metadata": {
    "collapsed": true
   },
   "outputs": [],
   "source": [
    "import pandas as pd\n",
    "import time\n",
    "\n",
    "import json\n",
    "import httplib2\n",
    "import sys\n",
    "import codecs\n",
    "       \n",
    "import re\n",
    "\n",
    "import numpy as np\n",
    "import math\n",
    "import ast\n",
    "\n",
    "import warnings\n",
    "warnings.filterwarnings(\"ignore\")\n",
    "\n",
    "import json\n",
    "#!pip install geog\n",
    "import geog\n",
    "import shapely.geometry\n",
    "from shapely.geometry import Point"
   ]
  },
  {
   "cell_type": "code",
   "execution_count": 2,
   "metadata": {},
   "outputs": [],
   "source": [
    "df = pd.read_csv('new_venues_clean.csv', encoding = \"ISO-8859-1\") \n"
   ]
  },
  {
   "cell_type": "code",
   "execution_count": 3,
   "metadata": {},
   "outputs": [],
   "source": [
    "df.drop(['in_the_box'],axis =1, inplace=True)"
   ]
  },
  {
   "cell_type": "code",
   "execution_count": 10,
   "metadata": {},
   "outputs": [
    {
     "name": "stdout",
     "output_type": "stream",
     "text": [
      "Origin Lat/Long 37.3382082 -121.8863286\n",
      "Destination Lat/Long 32.715738 -117.1610838\n",
      "Radius 80\n"
     ]
    }
   ],
   "source": [
    "### Input\n",
    "####### LA to SF (around 1204 POI)\n",
    "#x_0 = 34.05223\n",
    "#y_0 = -118.24368\n",
    "#x_f = 37.77493\n",
    "#y_f = -122.41942\n",
    "\n",
    "####### San Jose to SD (around 1320 POI)\n",
    "x_0 = 37.3382082\n",
    "y_0 = -121.8863286\n",
    "x_f = 32.715738\n",
    "y_f = -117.1610838\n",
    "\n",
    "# Oakland to SD  (around 1299 POI)\n",
    "#x_0 = 37.8044\n",
    "#y_0 = -122.2712\n",
    "#x_f = 32.715738\n",
    "#y_f = -117.1610838\n",
    "\n",
    "# San Jose to SF (around 653 POI)\n",
    "#x_0 = 37.3382082\n",
    "#y_0 = -121.8863286\n",
    "#x_f = 37.77493\n",
    "#y_f = -122.41942\n",
    "\n",
    "# Palo Alto to LA (around 872 POI)\n",
    "#x_0 = 37.4419\n",
    "#y_0 = -122.1430\n",
    "#x_f = 34.05223\n",
    "#y_f = -118.24368\n",
    "\n",
    "print (\"Origin Lat/Long\", x_0, y_0)\n",
    "print (\"Destination Lat/Long\", x_f, y_f)\n",
    "#approximate distance between points (aka \"radius\")\n",
    "radius = 80 # approximately 50 miles\n",
    "print (\"Radius\", radius)"
   ]
  },
  {
   "cell_type": "code",
   "execution_count": 11,
   "metadata": {},
   "outputs": [],
   "source": [
    "def poi_inside_box_optimize(x_0, y_0, x_f, y_f,df,radius=80):\n",
    "        # Haversine distance from origin to Destination\n",
    "        dlat = math.radians(x_f - x_0)\n",
    "        dlon = math.radians(y_f - y_0)\n",
    "        haversine_radius = 6371  # km\n",
    "        a = math.sin(dlat / 2) * math.sin(dlat / 2) + math.cos(math.radians(x_f)) \\\n",
    "            * math.cos(math.radians(x_0)) * math.sin(dlon / 2) * math.sin(dlon / 2)\n",
    "        c = 2 * math.atan2(math.sqrt(a), math.sqrt(1 - a))\n",
    "        haversine_dist = haversine_radius * c\n",
    "        #print ('Haversine Distance between Origin and Destination', haversine_dist)\n",
    "\n",
    "        if haversine_dist <= radius:\n",
    "            no_of_points = 1\n",
    "        else:\n",
    "            no_of_points = round(haversine_dist / radius) - 1\n",
    "        x_delta = (x_f - x_0) / no_of_points\n",
    "        y_delta = (y_f - y_0) / no_of_points\n",
    "        list_of_centroids = [(x_0 + i * x_delta, y_0 + i * y_delta) for i in range(1, no_of_points+1)]\n",
    "         \n",
    "        # list of tuples in the form of (x_min, x_max, y_min, y_max)\n",
    "        polygon_height = radius * 1000  # meters\n",
    "        polygon_points = 4\n",
    "        angles = np.linspace(0, 360, polygon_points)\n",
    "\n",
    "        df['in_the_box'] = False\n",
    "\n",
    "        for (x, y) in list_of_centroids:\n",
    "            df.loc[(abs(df[\"lat\"]-x)<abs(x_delta/2)) & (abs(df[\"lng\"]-y)<abs(y_delta/2)), 'in_the_box'] = True\n",
    "            \n",
    "        print(df[df['in_the_box'] == True].shape[0])    \n",
    "        return df"
   ]
  },
  {
   "cell_type": "code",
   "execution_count": 12,
   "metadata": {},
   "outputs": [
    {
     "name": "stdout",
     "output_type": "stream",
     "text": [
      "1320\n",
      "1320\n",
      "1320\n",
      "1320\n",
      "1320\n",
      "1320\n",
      "1320\n",
      "1320\n",
      "1320\n",
      "1320\n",
      "1320\n",
      "1320\n",
      "1320\n",
      "1320\n",
      "1320\n",
      "1320\n",
      "1320\n",
      "1320\n",
      "1320\n",
      "1320\n",
      "1320\n",
      "1320\n",
      "1320\n",
      "1320\n",
      "1320\n",
      "1320\n",
      "1320\n",
      "1320\n",
      "1320\n",
      "1320\n",
      "1320\n",
      "1320\n",
      "1320\n",
      "1320\n",
      "1320\n",
      "1320\n",
      "1320\n",
      "1320\n",
      "1320\n",
      "1320\n",
      "1320\n",
      "1320\n",
      "1320\n",
      "1320\n",
      "1320\n",
      "1320\n",
      "1320\n",
      "1320\n",
      "1320\n",
      "1320\n",
      "1320\n",
      "1320\n",
      "1320\n",
      "1320\n",
      "1320\n",
      "1320\n",
      "1320\n",
      "1320\n",
      "1320\n",
      "1320\n",
      "1320\n",
      "1320\n",
      "1320\n",
      "1320\n",
      "1320\n",
      "1320\n",
      "1320\n",
      "1320\n",
      "1320\n",
      "1320\n",
      "1320\n",
      "1320\n",
      "1320\n",
      "1320\n",
      "1320\n",
      "1320\n",
      "1320\n",
      "1320\n",
      "1320\n",
      "1320\n",
      "1320\n",
      "23.8 ms ± 3.51 ms per loop (mean ± std. dev. of 7 runs, 10 loops each)\n"
     ]
    }
   ],
   "source": [
    "%%timeit\n",
    "df1 = poi_inside_box_optimize(x_0,y_0,x_f,y_f,df,radius)"
   ]
  },
  {
   "cell_type": "code",
   "execution_count": 13,
   "metadata": {},
   "outputs": [
    {
     "ename": "NameError",
     "evalue": "name 'df1' is not defined",
     "output_type": "error",
     "traceback": [
      "\u001b[1;31m---------------------------------------------------------------------------\u001b[0m",
      "\u001b[1;31mNameError\u001b[0m                                 Traceback (most recent call last)",
      "\u001b[1;32m<ipython-input-13-b3ec715ff2d3>\u001b[0m in \u001b[0;36m<module>\u001b[1;34m()\u001b[0m\n\u001b[1;32m----> 1\u001b[1;33m \u001b[0mdf1\u001b[0m\u001b[1;33m[\u001b[0m\u001b[0mdf1\u001b[0m\u001b[1;33m[\u001b[0m\u001b[1;34m'in_the_box'\u001b[0m\u001b[1;33m]\u001b[0m \u001b[1;33m==\u001b[0m \u001b[1;32mTrue\u001b[0m\u001b[1;33m]\u001b[0m\u001b[1;33m\u001b[0m\u001b[0m\n\u001b[0m",
      "\u001b[1;31mNameError\u001b[0m: name 'df1' is not defined"
     ]
    }
   ],
   "source": [
    "df1[df1['in_the_box'] == True]"
   ]
  },
  {
   "cell_type": "code",
   "execution_count": 14,
   "metadata": {},
   "outputs": [
    {
     "data": {
      "text/plain": [
       "(1320, 19)"
      ]
     },
     "execution_count": 14,
     "metadata": {},
     "output_type": "execute_result"
    }
   ],
   "source": [
    "df[df['in_the_box'] == True].shape"
   ]
  },
  {
   "cell_type": "markdown",
   "metadata": {},
   "source": [
    "#### Logic to remove duplicate POIs"
   ]
  },
  {
   "cell_type": "code",
   "execution_count": null,
   "metadata": {},
   "outputs": [],
   "source": [
    "df1[df1.duplicated(['name','address'], keep = 'first')]"
   ]
  },
  {
   "cell_type": "code",
   "execution_count": null,
   "metadata": {},
   "outputs": [],
   "source": [
    "df1.shape"
   ]
  },
  {
   "cell_type": "code",
   "execution_count": null,
   "metadata": {
    "collapsed": true
   },
   "outputs": [],
   "source": [
    "df1.drop_duplicates(['name','address'], keep = 'first', inplace = True)"
   ]
  },
  {
   "cell_type": "code",
   "execution_count": null,
   "metadata": {},
   "outputs": [],
   "source": [
    "df1.columns.values"
   ]
  },
  {
   "cell_type": "code",
   "execution_count": null,
   "metadata": {
    "collapsed": true
   },
   "outputs": [],
   "source": [
    "#df1.drop(['centroid_index'],axis =1, inplace=True)  "
   ]
  },
  {
   "cell_type": "code",
   "execution_count": null,
   "metadata": {
    "collapsed": true
   },
   "outputs": [],
   "source": [
    "df1.to_csv('new_venues_clean.csv')"
   ]
  },
  {
   "cell_type": "code",
   "execution_count": null,
   "metadata": {
    "collapsed": true
   },
   "outputs": [],
   "source": []
  }
 ],
 "metadata": {
  "kernelspec": {
   "display_name": "Python 3",
   "language": "python",
   "name": "python3"
  },
  "language_info": {
   "codemirror_mode": {
    "name": "ipython",
    "version": 3
   },
   "file_extension": ".py",
   "mimetype": "text/x-python",
   "name": "python",
   "nbconvert_exporter": "python",
   "pygments_lexer": "ipython3",
   "version": "3.6.3"
  }
 },
 "nbformat": 4,
 "nbformat_minor": 2
}
