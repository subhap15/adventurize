{
 "cells": [
  {
   "cell_type": "code",
   "execution_count": 6,
   "metadata": {},
   "outputs": [],
   "source": [
    "import pandas as pd\n",
    "import time\n",
    "\n",
    "import json\n",
    "import httplib2\n",
    "import sys\n",
    "import codecs\n",
    "       \n",
    "import re\n",
    "\n",
    "import numpy as np\n",
    "import math\n",
    "import ast\n",
    "\n",
    "import warnings\n",
    "warnings.filterwarnings(\"ignore\")\n",
    "\n",
    "import json\n",
    "\n",
    "import geog\n",
    "import shapely.geometry\n",
    "from shapely.geometry import Point"
   ]
  },
  {
   "cell_type": "code",
   "execution_count": 8,
   "metadata": {},
   "outputs": [],
   "source": [
    "df = pd.read_csv('new_venues_clean.csv', encoding = \"ISO-8859-1\")\n",
    "\n",
    "df.drop(['in_the_box'],axis =1, inplace=True)"
   ]
  },
  {
   "cell_type": "code",
   "execution_count": 40,
   "metadata": {},
   "outputs": [
    {
     "name": "stdout",
     "output_type": "stream",
     "text": [
      "Origin Lat/Long 34.05223 -118.24368\n",
      "Destination Lat/Long 37.77493 -122.41942\n",
      "Radius 80\n"
     ]
    },
    {
     "data": {
      "text/plain": [
       "[<matplotlib.lines.Line2D at 0x900a438>]"
      ]
     },
     "execution_count": 40,
     "metadata": {},
     "output_type": "execute_result"
    },
    {
     "data": {
      "image/png": "[encoded data removed]",
      "text/plain": [
       "<Figure size 432x288 with 1 Axes>"
      ]
     },
     "metadata": {
      "needs_background": "light"
     },
     "output_type": "display_data"
    }
   ],
   "source": [
    "### Input\n",
    "####### LA to SF (around 1204 POI)\n",
    "x_0 = 34.05223\n",
    "y_0 = -118.24368\n",
    "x_f = 37.77493\n",
    "y_f = -122.41942\n",
    "\n",
    "####### San Jose to SD (around 1320 POI)\n",
    "#x_0 = 37.3382082\n",
    "#y_0 = -121.8863286\n",
    "#x_f = 32.715738\n",
    "#y_f = -117.1610838\n",
    "\n",
    "# Oakland to SD  (around 1299 POI)\n",
    "#x_0 = 37.8044\n",
    "#y_0 = -122.2712\n",
    "#x_f = 32.715738\n",
    "#y_f = -117.1610838\n",
    "\n",
    "# San Jose to SF (around 653 POI)\n",
    "#x_0 = 37.3382082\n",
    "#y_0 = -121.8863286\n",
    "#x_f = 37.77493\n",
    "#y_f = -122.41942\n",
    "\n",
    "# Palo Alto to LA (around 872 POI)\n",
    "#x_0 = 37.4419\n",
    "#y_0 = -122.1430\n",
    "#x_f = 34.05223\n",
    "#y_f = -118.24368\n",
    "\n",
    "# Oakland to SF  (around 1299 POI)\n",
    "#x_0 = 37.8044\n",
    "#y_0 = -122.2712\n",
    "#x_f = 37.77493\n",
    "#y_f = -122.41942\n",
    "\n",
    "print (\"Origin Lat/Long\", x_0, y_0)\n",
    "print (\"Destination Lat/Long\", x_f, y_f)\n",
    "#approximate distance between points (aka \"radius\")\n",
    "radius = 80 # approximately 50 miles\n",
    "print (\"Radius\", radius)\n",
    "\n",
    "#these points will simulate the poi geo filter tracking to a chosen coastal route\n",
    "split_list = [(34.577185, -120.477600),(36.26943, -121.8392222),(34.16249,-118.6064028),(35.1477777,-120.6945983),(33.6635854,-117.9820209)]\n",
    "split_list = sorted(split_list, key=lambda x: x[0])\n",
    "\n",
    "#visualize split points relevative to poi data set\n",
    "ax = plt.subplot(1, 1, 1)\n",
    "ax.plot(df.lng, df.lat, \"xy\", alpha= .01)\n",
    "ax.plot([p[1] for p in split_list], [p[0] for p in split_list], \"xr\")"
   ]
  },
  {
   "cell_type": "code",
   "execution_count": 38,
   "metadata": {},
   "outputs": [],
   "source": [
    "def poi_inside_box_optimize(x_0, y_0, x_f, y_f,df,radius):\n",
    "        #print('radius= ', radius)\n",
    "        # Haversine distance from origin to Destination\n",
    "        dlat = math.radians(x_f - x_0)\n",
    "        dlon = math.radians(y_f - y_0)\n",
    "        haversine_radius = 6371  # km\n",
    "        a = math.sin(dlat / 2) * math.sin(dlat / 2) + math.cos(math.radians(x_f)) \\\n",
    "            * math.cos(math.radians(x_0)) * math.sin(dlon / 2) * math.sin(dlon / 2)\n",
    "        c = 2 * math.atan2(math.sqrt(a), math.sqrt(1 - a))\n",
    "        haversine_dist = haversine_radius * c\n",
    "        \n",
    "        no_of_points = round(haversine_dist / radius) - 1\n",
    "\n",
    "        x_delta = (x_f - x_0) / max(1,no_of_points) #to protect agains dividing by zero\n",
    "        y_delta = (y_f - y_0) / max(1,no_of_points)\n",
    "        list_of_centroids = [(x_0 + i * x_delta, y_0 + i * y_delta) for i in range(0, max(1,no_of_points))]\n",
    "        list_of_centroids.append((x_f, y_f))\n",
    "        \n",
    "    \n",
    "        for (x, y) in list_of_centroids:\n",
    "            df.loc[(abs(df[\"lat\"]-x)<abs(x_delta)) & (abs(df[\"lng\"]-y)<abs(y_delta)), 'in_the_box'] = True\n",
    "            \n",
    "        #print(df[df['in_the_box'] == True].shape[0])    \n",
    "        return df\n",
    "\n",
    "def poi_with_split(x_0, y_0, x_f, y_f, df, radius, split_list): #recursive\n",
    "       #remove split points if they are lower than the x_0 or higher than x_f\n",
    "    split_list = [(x[0],x[1]) for x in split_list if x[0]>x_0 and x[0]<x_f]\n",
    "    \n",
    "    #end if no split points between origin and dest\n",
    "    if len(split_list)==0:\n",
    "        return(poi_inside_box_optimize(x_0,y_0,x_f,y_f,df,radius=radius))\n",
    "    #otherwise split the data frame and split list \n",
    "    elif (x_0 <split_list[0][0]< x_f or x_f <split_list[0][0]< x_0):\n",
    "        mask = df['lat']<=split_list[0][0]\n",
    "        df1 = poi_with_split(x_0, y_0, split_list[0][0], split_list[0][1], df[mask], radius, split_list = [])\n",
    "        df2 = poi_with_split(split_list[0][0], split_list[0][1], x_f,y_f, df[~mask], radius, split_list = split_list)\n",
    "        df_result = pd.concat([df1,df2])\n",
    "        return(df_result)\n",
    "\n",
    "def poi_with_safe_split(x_0, y_0, x_f, y_f, df, radius, split_list):\n",
    "    #initialize column\n",
    "    df['in_the_box'] = False\n",
    "    \n",
    "    #arrange origin and destination by x val\n",
    "    if(x_0>x_f):\n",
    "        print('arrange origin and destination by x val')\n",
    "        x_temp, y_temp = x_0,y_0\n",
    "        x_0,y_0 = x_f,y_f\n",
    "        x_f,y_f = x_temp, y_temp\n",
    "        print(x_0,y_0)\n",
    "        print(x_f,y_f)\n",
    "        \n",
    "    #filter out things that are above and below are start points, this is a temporary measure\n",
    "    df_result = poi_with_split(x_0, y_0, x_f,y_f, df, radius = radius, split_list = split_list)\n",
    "    df_result.loc[((df_result[\"lat\"]<x_0) | (df_result[\"lat\"]>x_f)), 'in_the_box'] = False\n",
    "    return(df_result)"
   ]
  },
  {
   "cell_type": "code",
   "execution_count": 50,
   "metadata": {},
   "outputs": [
    {
     "data": {
      "text/html": [
       "<div>\n",
       "<style scoped>\n",
       "    .dataframe tbody tr th:only-of-type {\n",
       "        vertical-align: middle;\n",
       "    }\n",
       "\n",
       "    .dataframe tbody tr th {\n",
       "        vertical-align: top;\n",
       "    }\n",
       "\n",
       "    .dataframe thead th {\n",
       "        text-align: right;\n",
       "    }\n",
       "</style>\n",
       "<table border=\"1\" class=\"dataframe\">\n",
       "  <thead>\n",
       "    <tr style=\"text-align: right;\">\n",
       "      <th></th>\n",
       "      <th>radius</th>\n",
       "      <th>time</th>\n",
       "      <th>in_box_true</th>\n",
       "    </tr>\n",
       "  </thead>\n",
       "  <tbody>\n",
       "    <tr>\n",
       "      <th>0</th>\n",
       "      <td>10</td>\n",
       "      <td>5.264</td>\n",
       "      <td>592</td>\n",
       "    </tr>\n",
       "    <tr>\n",
       "      <th>1</th>\n",
       "      <td>20</td>\n",
       "      <td>1.886</td>\n",
       "      <td>1656</td>\n",
       "    </tr>\n",
       "    <tr>\n",
       "      <th>2</th>\n",
       "      <td>40</td>\n",
       "      <td>0.799</td>\n",
       "      <td>2258</td>\n",
       "    </tr>\n",
       "    <tr>\n",
       "      <th>3</th>\n",
       "      <td>80</td>\n",
       "      <td>0.488</td>\n",
       "      <td>2362</td>\n",
       "    </tr>\n",
       "  </tbody>\n",
       "</table>\n",
       "</div>"
      ],
      "text/plain": [
       "   radius   time  in_box_true\n",
       "0      10  5.264          592\n",
       "1      20  1.886         1656\n",
       "2      40  0.799         2258\n",
       "3      80  0.488         2362"
      ]
     },
     "execution_count": 50,
     "metadata": {},
     "output_type": "execute_result"
    }
   ],
   "source": [
    "##%%timeit\n",
    "start = time.time()\n",
    "df_result_r_10 = poi_with_safe_split(x_0, y_0, x_f,y_f, df, radius = 10, split_list = split_list)\n",
    "time_10 = time.time() - start\n",
    "\n",
    "start = time.time()\n",
    "df_result_r_20 = poi_with_safe_split(x_0, y_0, x_f,y_f, df, radius = 20, split_list = split_list)\n",
    "time_20 = time.time() - start\n",
    "\n",
    "start = time.time()\n",
    "df_result_r_40 = poi_with_safe_split(x_0, y_0, x_f,y_f, df, radius = 40, split_list = split_list)\n",
    "time_40 = time.time() - start\n",
    "\n",
    "start = time.time()\n",
    "df_result_r_80 = poi_with_safe_split(x_0, y_0, x_f,y_f, df, radius = 80, split_list = split_list)\n",
    "time_80 = time.time() - start\n",
    "\n",
    "pd.DataFrame({'radius':[10,20,40,80], 'time':[time_10,time_20,time_40,time_80], 'in_box_true':[sum(df_result_r_10.in_the_box),sum(df_result_r_20.in_the_box),sum(df_result_r_40.in_the_box),sum(df_result_r_80.in_the_box)]})"
   ]
  },
  {
   "cell_type": "code",
   "execution_count": 51,
   "metadata": {},
   "outputs": [
    {
     "name": "stdout",
     "output_type": "stream",
     "text": [
      "4.21 s ± 733 ms per loop (mean ± std. dev. of 7 runs, 1 loop each)\n"
     ]
    }
   ],
   "source": [
    "%%timeit\n",
    "poi_with_safe_split(x_0, y_0, x_f,y_f, df, radius = 10, split_list = split_list)"
   ]
  },
  {
   "cell_type": "code",
   "execution_count": 61,
   "metadata": {},
   "outputs": [
    {
     "data": {
      "image/png": "[encoded data removed]",
      "text/plain": [
       "<Figure size 432x288 with 2 Axes>"
      ]
     },
     "metadata": {
      "needs_background": "light"
     },
     "output_type": "display_data"
    }
   ],
   "source": [
    "#Visualize Results\n",
    "df_splits = pd.DataFrame(split_list, columns=['lat', 'lng'])\n",
    "df_start_end = pd.DataFrame([(x_0, y_0),( x_f,y_f)], columns=['lat', 'lng'])\n",
    "\n",
    "ax = plt.subplot(1, 2, 1)\n",
    "df_inside_the_box = df_result_r_10[df_result_r_10['in_the_box'] == True] \n",
    "\n",
    "\n",
    "ax.plot(df.lng, df.lat, \"xy\", alpha= .01)\n",
    "ax.plot(df_inside_the_box.lng, df_inside_the_box.lat, '+b', alpha=0.4)\n",
    "ax.plot(df_splits.lng, df_splits.lat, \"xr\")\n",
    "\n",
    "\n",
    "ax2 = plt.subplot(1, 2, 2)\n",
    "df_inside_the_box = df_result_r_80[df_result_r_80['in_the_box'] == True] \n",
    "\n",
    "\n",
    "ax2.plot(df.lng, df.lat, \"xy\", alpha= .01)\n",
    "ax2.plot(df_inside_the_box.lng, df_inside_the_box.lat, '+b', alpha=0.4)\n",
    "ax2.plot(df_splits.lng, df_splits.lat, \"xr\")\n",
    "\n",
    "plt.show()"
   ]
  },
  {
   "cell_type": "code",
   "execution_count": null,
   "metadata": {},
   "outputs": [],
   "source": []
  }
 ],
 "metadata": {
  "kernelspec": {
   "display_name": "Python 3",
   "language": "python",
   "name": "python3"
  },
  "language_info": {
   "codemirror_mode": {
    "name": "ipython",
    "version": 3
   },
   "file_extension": ".py",
   "mimetype": "text/x-python",
   "name": "python",
   "nbconvert_exporter": "python",
   "pygments_lexer": "ipython3",
   "version": "3.7.3"
  }
 },
 "nbformat": 4,
 "nbformat_minor": 2
}
